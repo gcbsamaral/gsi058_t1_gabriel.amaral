{
 "cells": [
  {
   "cell_type": "code",
   "execution_count": null,
   "id": "f5975750-efca-40cc-82d8-54b7bd5d345c",
   "metadata": {
    "tags": []
   },
   "outputs": [],
   "source": [
    "class sistema_solar:\n",
    "  def __init__(self):\n",
    "    self.nro_planetas = 0;\n",
    "    self.nomes_planetas = []\n",
    "\n",
    "def main():\n",
    "  sis = sistema_solar()\n",
    "  sis.nro_planetas = int(input(\"Digite o numero de planetas.\"))\n",
    "  if sis.nro_planetas < 1:\n",
    "    sis.nro_planetas = 1\n",
    "  \n",
    "  for i in range(sis.nro_planetas):\n",
    "    sis.nomes_planetas.append(input(\"Digite o nome do \" + str(i+1) + \"° planeta.\"))\n",
    "  \n",
    "  x = 1\n",
    "  while x :\n",
    "    x = int(input(\"Digite um numero.\"))\n",
    "    if x > 0 and x <= sis.nro_planetas:\n",
    "      print(sis.nomes_planetas[x])\n",
    "    else:\n",
    "      x=0\n",
    "\n",
    "main()"
   ]
  },
  {
   "cell_type": "code",
   "execution_count": null,
   "id": "b1a353ff-4764-4643-b966-ff94bd6c16f3",
   "metadata": {},
   "outputs": [],
   "source": []
  }
 ],
 "metadata": {
  "kernelspec": {
   "display_name": "Python 3 (ipykernel)",
   "language": "python",
   "name": "python3"
  },
  "language_info": {
   "codemirror_mode": {
    "name": "ipython",
    "version": 3
   },
   "file_extension": ".py",
   "mimetype": "text/x-python",
   "name": "python",
   "nbconvert_exporter": "python",
   "pygments_lexer": "ipython3",
   "version": "3.10.10"
  }
 },
 "nbformat": 4,
 "nbformat_minor": 5
}
