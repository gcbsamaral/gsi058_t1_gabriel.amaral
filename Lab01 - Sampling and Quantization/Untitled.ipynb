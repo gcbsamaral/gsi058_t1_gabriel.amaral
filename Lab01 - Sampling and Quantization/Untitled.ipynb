{
 "cells": [
  {
   "cell_type": "code",
   "execution_count": 3,
   "id": "f5975750-efca-40cc-82d8-54b7bd5d345c",
   "metadata": {
    "tags": []
   },
   "outputs": [
    {
     "name": "stdin",
     "output_type": "stream",
     "text": [
      "Digite o numero de planetas. 8\n",
      "Digite o nome do 1° planeta. Mercurio\n",
      "Digite o nome do 2° planeta. Venus\n",
      "Digite o nome do 3° planeta. Terra\n",
      "Digite o nome do 4° planeta. Marte\n",
      "Digite o nome do 5° planeta. Jupiter\n",
      "Digite o nome do 6° planeta. Saturno\n",
      "Digite o nome do 7° planeta. Urano\n",
      "Digite o nome do 8° planeta. Netuno\n",
      "Digite um numero. 4\n"
     ]
    },
    {
     "name": "stdout",
     "output_type": "stream",
     "text": [
      "Marte\n"
     ]
    },
    {
     "name": "stdin",
     "output_type": "stream",
     "text": [
      "Digite um numero. 1\n"
     ]
    },
    {
     "name": "stdout",
     "output_type": "stream",
     "text": [
      "Mercurio\n"
     ]
    },
    {
     "name": "stdin",
     "output_type": "stream",
     "text": [
      "Digite um numero. 8\n"
     ]
    },
    {
     "name": "stdout",
     "output_type": "stream",
     "text": [
      "Netuno\n"
     ]
    },
    {
     "name": "stdin",
     "output_type": "stream",
     "text": [
      "Digite um numero. 3\n"
     ]
    },
    {
     "name": "stdout",
     "output_type": "stream",
     "text": [
      "Terra\n"
     ]
    },
    {
     "name": "stdin",
     "output_type": "stream",
     "text": [
      "Digite um numero. 2\n"
     ]
    },
    {
     "name": "stdout",
     "output_type": "stream",
     "text": [
      "Venus\n"
     ]
    },
    {
     "name": "stdin",
     "output_type": "stream",
     "text": [
      "Digite um numero. 3\n"
     ]
    },
    {
     "name": "stdout",
     "output_type": "stream",
     "text": [
      "Terra\n"
     ]
    },
    {
     "name": "stdin",
     "output_type": "stream",
     "text": [
      "Digite um numero. 4\n"
     ]
    },
    {
     "name": "stdout",
     "output_type": "stream",
     "text": [
      "Marte\n"
     ]
    },
    {
     "name": "stdin",
     "output_type": "stream",
     "text": [
      "Digite um numero. 5\n"
     ]
    },
    {
     "name": "stdout",
     "output_type": "stream",
     "text": [
      "Jupiter\n"
     ]
    },
    {
     "name": "stdin",
     "output_type": "stream",
     "text": [
      "Digite um numero. 6\n"
     ]
    },
    {
     "name": "stdout",
     "output_type": "stream",
     "text": [
      "Saturno\n"
     ]
    },
    {
     "name": "stdin",
     "output_type": "stream",
     "text": [
      "Digite um numero. 9\n"
     ]
    }
   ],
   "source": [
    "class sistema_solar:\n",
    "  def __init__(self):\n",
    "    self.nro_planetas = 0;\n",
    "    self.nomes_planetas = []\n",
    "\n",
    "def main():\n",
    "  sis = sistema_solar()\n",
    "  sis.nro_planetas = int(input(\"Digite o numero de planetas.\"))\n",
    "  if sis.nro_planetas < 1:\n",
    "    sis.nro_planetas = 1\n",
    "  \n",
    "  for i in range(sis.nro_planetas):\n",
    "    sis.nomes_planetas.append(input(\"Digite o nome do \" + str(i+1) + \"° planeta.\"))\n",
    "  \n",
    "  x = 1\n",
    "  while x :\n",
    "    x = int(input(\"Digite um numero.\"))\n",
    "    if x > 0 and x <= sis.nro_planetas:\n",
    "      print(sis.nomes_planetas[x-1])\n",
    "    else:\n",
    "      x=0\n",
    "\n",
    "main()"
   ]
  },
  {
   "cell_type": "code",
   "execution_count": null,
   "id": "683d017b-33a2-4901-8637-5050996929bd",
   "metadata": {},
   "outputs": [],
   "source": []
  }
 ],
 "metadata": {
  "kernelspec": {
   "display_name": "Python 3 (ipykernel)",
   "language": "python",
   "name": "python3"
  },
  "language_info": {
   "codemirror_mode": {
    "name": "ipython",
    "version": 3
   },
   "file_extension": ".py",
   "mimetype": "text/x-python",
   "name": "python",
   "nbconvert_exporter": "python",
   "pygments_lexer": "ipython3",
   "version": "3.10.10"
  }
 },
 "nbformat": 4,
 "nbformat_minor": 5
}
